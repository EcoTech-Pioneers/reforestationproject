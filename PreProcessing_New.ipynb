{
 "cells": [
  {
   "cell_type": "code",
   "execution_count": 3,
   "id": "42148757",
   "metadata": {},
   "outputs": [],
   "source": [
    "import pandas as pd"
   ]
  },
  {
   "cell_type": "code",
   "execution_count": 4,
   "id": "51bdc667",
   "metadata": {
    "scrolled": true
   },
   "outputs": [
    {
     "data": {
      "text/html": [
       "<div>\n",
       "<style scoped>\n",
       "    .dataframe tbody tr th:only-of-type {\n",
       "        vertical-align: middle;\n",
       "    }\n",
       "\n",
       "    .dataframe tbody tr th {\n",
       "        vertical-align: top;\n",
       "    }\n",
       "\n",
       "    .dataframe thead th {\n",
       "        text-align: right;\n",
       "    }\n",
       "</style>\n",
       "<table border=\"1\" class=\"dataframe\">\n",
       "  <thead>\n",
       "    <tr style=\"text-align: right;\">\n",
       "      <th></th>\n",
       "      <th>FID</th>\n",
       "      <th>County</th>\n",
       "      <th>Sub_County</th>\n",
       "      <th>AEZ_Code</th>\n",
       "      <th>AEZ_Name</th>\n",
       "      <th>AEZSubzone</th>\n",
       "      <th>Major_Crop</th>\n",
       "      <th>AREA</th>\n",
       "      <th>Shape__Area</th>\n",
       "      <th>Shape__Length</th>\n",
       "    </tr>\n",
       "  </thead>\n",
       "  <tbody>\n",
       "    <tr>\n",
       "      <th>0</th>\n",
       "      <td>1</td>\n",
       "      <td>West Pokot</td>\n",
       "      <td>Loima Sub County</td>\n",
       "      <td>IL 5</td>\n",
       "      <td>Inner Lowland</td>\n",
       "      <td>(vs)</td>\n",
       "      <td>Livestock - Millet Zone</td>\n",
       "      <td>6.161298</td>\n",
       "      <td>6.211316e+04</td>\n",
       "      <td>1872.328594</td>\n",
       "    </tr>\n",
       "    <tr>\n",
       "      <th>1</th>\n",
       "      <td>2</td>\n",
       "      <td>West Pokot</td>\n",
       "      <td>Loima Sub County</td>\n",
       "      <td>IL 5</td>\n",
       "      <td>Inner Lowland</td>\n",
       "      <td>(vs)</td>\n",
       "      <td>Livestock - Millet Zone</td>\n",
       "      <td>0.821146</td>\n",
       "      <td>8.278199e+03</td>\n",
       "      <td>590.947614</td>\n",
       "    </tr>\n",
       "    <tr>\n",
       "      <th>2</th>\n",
       "      <td>3</td>\n",
       "      <td>West Pokot</td>\n",
       "      <td>Pokot North Sub County</td>\n",
       "      <td>IL 5</td>\n",
       "      <td>Inner Lowland</td>\n",
       "      <td>(vs)</td>\n",
       "      <td>Livestock - Millet Zone</td>\n",
       "      <td>365.113050</td>\n",
       "      <td>5.557811e+05</td>\n",
       "      <td>4985.080112</td>\n",
       "    </tr>\n",
       "    <tr>\n",
       "      <th>3</th>\n",
       "      <td>4</td>\n",
       "      <td>West Pokot</td>\n",
       "      <td>Pokot North Sub County</td>\n",
       "      <td>IL 5</td>\n",
       "      <td>Inner Lowland</td>\n",
       "      <td>(vs)</td>\n",
       "      <td>Livestock - Millet Zone</td>\n",
       "      <td>365.113050</td>\n",
       "      <td>3.125235e+06</td>\n",
       "      <td>8141.996622</td>\n",
       "    </tr>\n",
       "    <tr>\n",
       "      <th>4</th>\n",
       "      <td>5</td>\n",
       "      <td>West Pokot</td>\n",
       "      <td>Loima Sub County</td>\n",
       "      <td>IL 5</td>\n",
       "      <td>Inner Lowland</td>\n",
       "      <td>(vs)</td>\n",
       "      <td>Livestock - Millet Zone</td>\n",
       "      <td>957.860723</td>\n",
       "      <td>9.657306e+06</td>\n",
       "      <td>23721.351976</td>\n",
       "    </tr>\n",
       "  </tbody>\n",
       "</table>\n",
       "</div>"
      ],
      "text/plain": [
       "   FID      County              Sub_County AEZ_Code       AEZ_Name AEZSubzone  \\\n",
       "0    1  West Pokot        Loima Sub County     IL 5  Inner Lowland       (vs)   \n",
       "1    2  West Pokot        Loima Sub County     IL 5  Inner Lowland       (vs)   \n",
       "2    3  West Pokot  Pokot North Sub County     IL 5  Inner Lowland       (vs)   \n",
       "3    4  West Pokot  Pokot North Sub County     IL 5  Inner Lowland       (vs)   \n",
       "4    5  West Pokot        Loima Sub County     IL 5  Inner Lowland       (vs)   \n",
       "\n",
       "                Major_Crop        AREA   Shape__Area  Shape__Length  \n",
       "0  Livestock - Millet Zone    6.161298  6.211316e+04    1872.328594  \n",
       "1  Livestock - Millet Zone    0.821146  8.278199e+03     590.947614  \n",
       "2  Livestock - Millet Zone  365.113050  5.557811e+05    4985.080112  \n",
       "3  Livestock - Millet Zone  365.113050  3.125235e+06    8141.996622  \n",
       "4  Livestock - Millet Zone  957.860723  9.657306e+06   23721.351976  "
      ]
     },
     "execution_count": 4,
     "metadata": {},
     "output_type": "execute_result"
    }
   ],
   "source": [
    "aez_df = pd.read_csv(\"Kenya_Agro_Ecological_Zones.csv\")\n",
    "aez_df.head()"
   ]
  },
  {
   "cell_type": "code",
   "execution_count": 5,
   "id": "8f55a38a",
   "metadata": {},
   "outputs": [
    {
     "data": {
      "text/html": [
       "<div>\n",
       "<style scoped>\n",
       "    .dataframe tbody tr th:only-of-type {\n",
       "        vertical-align: middle;\n",
       "    }\n",
       "\n",
       "    .dataframe tbody tr th {\n",
       "        vertical-align: top;\n",
       "    }\n",
       "\n",
       "    .dataframe thead th {\n",
       "        text-align: right;\n",
       "    }\n",
       "</style>\n",
       "<table border=\"1\" class=\"dataframe\">\n",
       "  <thead>\n",
       "    <tr style=\"text-align: right;\">\n",
       "      <th></th>\n",
       "      <th>County</th>\n",
       "      <th>Sub_County</th>\n",
       "      <th>AEZ_Code</th>\n",
       "    </tr>\n",
       "  </thead>\n",
       "  <tbody>\n",
       "    <tr>\n",
       "      <th>0</th>\n",
       "      <td>West Pokot</td>\n",
       "      <td>Loima Sub County</td>\n",
       "      <td>IL 5</td>\n",
       "    </tr>\n",
       "    <tr>\n",
       "      <th>1</th>\n",
       "      <td>West Pokot</td>\n",
       "      <td>Loima Sub County</td>\n",
       "      <td>IL 5</td>\n",
       "    </tr>\n",
       "    <tr>\n",
       "      <th>2</th>\n",
       "      <td>West Pokot</td>\n",
       "      <td>Pokot North Sub County</td>\n",
       "      <td>IL 5</td>\n",
       "    </tr>\n",
       "    <tr>\n",
       "      <th>3</th>\n",
       "      <td>West Pokot</td>\n",
       "      <td>Pokot North Sub County</td>\n",
       "      <td>IL 5</td>\n",
       "    </tr>\n",
       "    <tr>\n",
       "      <th>4</th>\n",
       "      <td>West Pokot</td>\n",
       "      <td>Loima Sub County</td>\n",
       "      <td>IL 5</td>\n",
       "    </tr>\n",
       "  </tbody>\n",
       "</table>\n",
       "</div>"
      ],
      "text/plain": [
       "       County              Sub_County AEZ_Code\n",
       "0  West Pokot        Loima Sub County     IL 5\n",
       "1  West Pokot        Loima Sub County     IL 5\n",
       "2  West Pokot  Pokot North Sub County     IL 5\n",
       "3  West Pokot  Pokot North Sub County     IL 5\n",
       "4  West Pokot        Loima Sub County     IL 5"
      ]
     },
     "execution_count": 5,
     "metadata": {},
     "output_type": "execute_result"
    }
   ],
   "source": [
    "#dropped unneccesary columns from the data frame\n",
    "\n",
    "dropped_columns = [\"FID\",\"AEZ_Name\",\"AEZSubzone\", \"Major_Crop\", \"AREA\", \"Shape__Area\", \"Shape__Length\"]\n",
    "\n",
    "aez_df.drop(columns = dropped_columns, inplace=True)\n",
    "\n",
    "aez_df.head()"
   ]
  },
  {
   "cell_type": "code",
   "execution_count": 6,
   "id": "1257f3da",
   "metadata": {},
   "outputs": [
    {
     "data": {
      "text/plain": [
       "0        False\n",
       "1         True\n",
       "2        False\n",
       "3         True\n",
       "4         True\n",
       "         ...  \n",
       "11658     True\n",
       "11659    False\n",
       "11660     True\n",
       "11661     True\n",
       "11662     True\n",
       "Length: 11663, dtype: bool"
      ]
     },
     "execution_count": 6,
     "metadata": {},
     "output_type": "execute_result"
    }
   ],
   "source": [
    "aez_df.duplicated()"
   ]
  },
  {
   "cell_type": "code",
   "execution_count": 7,
   "id": "b6c8f640",
   "metadata": {},
   "outputs": [
    {
     "data": {
      "text/html": [
       "<div>\n",
       "<style scoped>\n",
       "    .dataframe tbody tr th:only-of-type {\n",
       "        vertical-align: middle;\n",
       "    }\n",
       "\n",
       "    .dataframe tbody tr th {\n",
       "        vertical-align: top;\n",
       "    }\n",
       "\n",
       "    .dataframe thead th {\n",
       "        text-align: right;\n",
       "    }\n",
       "</style>\n",
       "<table border=\"1\" class=\"dataframe\">\n",
       "  <thead>\n",
       "    <tr style=\"text-align: right;\">\n",
       "      <th></th>\n",
       "      <th>County</th>\n",
       "      <th>Sub_County</th>\n",
       "      <th>AEZ_Code</th>\n",
       "    </tr>\n",
       "  </thead>\n",
       "  <tbody>\n",
       "    <tr>\n",
       "      <th>0</th>\n",
       "      <td>West Pokot</td>\n",
       "      <td>Loima Sub County</td>\n",
       "      <td>IL 5</td>\n",
       "    </tr>\n",
       "    <tr>\n",
       "      <th>2</th>\n",
       "      <td>West Pokot</td>\n",
       "      <td>Pokot North Sub County</td>\n",
       "      <td>IL 5</td>\n",
       "    </tr>\n",
       "    <tr>\n",
       "      <th>5</th>\n",
       "      <td>West Pokot</td>\n",
       "      <td>Pokot North Sub County</td>\n",
       "      <td>IL 6</td>\n",
       "    </tr>\n",
       "    <tr>\n",
       "      <th>6</th>\n",
       "      <td>West Pokot</td>\n",
       "      <td>Loima Sub County</td>\n",
       "      <td>IL 6</td>\n",
       "    </tr>\n",
       "    <tr>\n",
       "      <th>9</th>\n",
       "      <td>West Pokot</td>\n",
       "      <td>West Pokot Sub County</td>\n",
       "      <td>IL 6</td>\n",
       "    </tr>\n",
       "  </tbody>\n",
       "</table>\n",
       "</div>"
      ],
      "text/plain": [
       "       County              Sub_County AEZ_Code\n",
       "0  West Pokot        Loima Sub County     IL 5\n",
       "2  West Pokot  Pokot North Sub County     IL 5\n",
       "5  West Pokot  Pokot North Sub County     IL 6\n",
       "6  West Pokot        Loima Sub County     IL 6\n",
       "9  West Pokot   West Pokot Sub County     IL 6"
      ]
     },
     "execution_count": 7,
     "metadata": {},
     "output_type": "execute_result"
    }
   ],
   "source": [
    "aez_df.drop_duplicates(inplace=True)\n",
    "aez_df.head()"
   ]
  },
  {
   "cell_type": "code",
   "execution_count": 8,
   "id": "c658780d",
   "metadata": {},
   "outputs": [
    {
     "name": "stdout",
     "output_type": "stream",
     "text": [
      "['IL 5', 'IL 6', 'LH 1', 'LH 2', 'LH 3', 'LH 4', 'LM 4', 'LM 4 - 5', 'LM 5', 'LM 5 - 6', 'LM 6', 'TA 1', 'TA 2', 'UH 1', 'UH 1 - 2', 'UH 2', 'UH 2 - 3', 'UM 2', 'UM 3', 'UM 4', 'UM 4 - 5', 'UM 5', 'LH 3 - 4', 'Waterbody - IL 6', 'Waterbody - LM 5', 'Waterbody - LM 6', 'Waterbody - UM 5', 'LH 0', 'UH 0', 'UM 1', 'UM 2 - 3', 'LM 1', 'LM 2', 'LM 3', 'UM 2 - 4', 'UM 3 - 4', 'Waterbody - Lake Victoria', 'Waterbody - LM 4', 'UH 3', 'TA 0', 'Waterbody - Indian Ocean', 'CL 4', 'CL 5', 'CL 6', 'IL 7', 'UM 6', 'LH 5', 'NBO', 'UM 5 - 6', 'UM 0', 'CL 3', 'CL 3 - 4', 'UM 1 - 2', 'Waterbody - LM 3', 'CL 2 (-3)', 'LH 4 - 5', 'LM 7', 'Waterbody - IL 7', 'TA 1 - 2', 'UH - LH 3', 'Waterbody - LH 5', 'Waterbody - UM 6', 'LH 2 - 3', 'UH 4', 'Waterbody - IL 5']\n",
      "65\n"
     ]
    }
   ],
   "source": [
    "\n",
    "unique_zones = aez_df[\"AEZ_Code\"].unique()\n",
    "zones_list = unique_zones.tolist()\n",
    "print(zones_list)\n",
    "\n",
    "print(len(zones_list))"
   ]
  },
  {
   "cell_type": "code",
   "execution_count": 9,
   "id": "4d4b4064",
   "metadata": {},
   "outputs": [
    {
     "name": "stdout",
     "output_type": "stream",
     "text": [
      "<class 'pandas.core.frame.DataFrame'>\n",
      "Int64Index: 2858 entries, 0 to 11659\n",
      "Data columns (total 3 columns):\n",
      " #   Column      Non-Null Count  Dtype \n",
      "---  ------      --------------  ----- \n",
      " 0   County      2858 non-null   object\n",
      " 1   Sub_County  2858 non-null   object\n",
      " 2   AEZ_Code    2858 non-null   object\n",
      "dtypes: object(3)\n",
      "memory usage: 89.3+ KB\n"
     ]
    }
   ],
   "source": [
    "aez_df.info()"
   ]
  },
  {
   "cell_type": "code",
   "execution_count": 10,
   "id": "fe30d8c0",
   "metadata": {
    "scrolled": true
   },
   "outputs": [
    {
     "data": {
      "text/html": [
       "<div>\n",
       "<style scoped>\n",
       "    .dataframe tbody tr th:only-of-type {\n",
       "        vertical-align: middle;\n",
       "    }\n",
       "\n",
       "    .dataframe tbody tr th {\n",
       "        vertical-align: top;\n",
       "    }\n",
       "\n",
       "    .dataframe thead th {\n",
       "        text-align: right;\n",
       "    }\n",
       "</style>\n",
       "<table border=\"1\" class=\"dataframe\">\n",
       "  <thead>\n",
       "    <tr style=\"text-align: right;\">\n",
       "      <th></th>\n",
       "      <th>County</th>\n",
       "      <th>Sub_County</th>\n",
       "      <th>AEZ_Code</th>\n",
       "    </tr>\n",
       "  </thead>\n",
       "  <tbody>\n",
       "    <tr>\n",
       "      <th>0</th>\n",
       "      <td>West Pokot</td>\n",
       "      <td>Loima Sub County</td>\n",
       "      <td>5</td>\n",
       "    </tr>\n",
       "    <tr>\n",
       "      <th>2</th>\n",
       "      <td>West Pokot</td>\n",
       "      <td>Pokot North Sub County</td>\n",
       "      <td>5</td>\n",
       "    </tr>\n",
       "    <tr>\n",
       "      <th>5</th>\n",
       "      <td>West Pokot</td>\n",
       "      <td>Pokot North Sub County</td>\n",
       "      <td>6</td>\n",
       "    </tr>\n",
       "    <tr>\n",
       "      <th>6</th>\n",
       "      <td>West Pokot</td>\n",
       "      <td>Loima Sub County</td>\n",
       "      <td>6</td>\n",
       "    </tr>\n",
       "    <tr>\n",
       "      <th>9</th>\n",
       "      <td>West Pokot</td>\n",
       "      <td>West Pokot Sub County</td>\n",
       "      <td>6</td>\n",
       "    </tr>\n",
       "  </tbody>\n",
       "</table>\n",
       "</div>"
      ],
      "text/plain": [
       "       County              Sub_County AEZ_Code\n",
       "0  West Pokot        Loima Sub County        5\n",
       "2  West Pokot  Pokot North Sub County        5\n",
       "5  West Pokot  Pokot North Sub County        6\n",
       "6  West Pokot        Loima Sub County        6\n",
       "9  West Pokot   West Pokot Sub County        6"
      ]
     },
     "execution_count": 10,
     "metadata": {},
     "output_type": "execute_result"
    }
   ],
   "source": [
    "#From research, I found that Kenya has 1-7 agroecological zones. Each of the codes in this datasets ended with zone number\n",
    "#deleted the stings to be left with the number for each zone\n",
    "#Plan is to create a uniform AEZ_Code column for joining with the other dataset\n",
    "\n",
    "aez_df['AEZ_Code'] = aez_df['AEZ_Code'].str.replace(r'\\D', '', regex=True)\n",
    "aez_df.head()"
   ]
  },
  {
   "cell_type": "code",
   "execution_count": 11,
   "id": "da2aaaf1",
   "metadata": {},
   "outputs": [],
   "source": [
    "#deleting white spaces\n",
    "\n",
    "aez_df['AEZ_Code'] = aez_df['AEZ_Code'].str.strip() == ''"
   ]
  },
  {
   "cell_type": "code",
   "execution_count": 12,
   "id": "476776b7",
   "metadata": {},
   "outputs": [],
   "source": [
    "try:\n",
    "    aez_df['AEZ_Code'] = aez_df['AEZ_Code'].astype(int)\n",
    "except: ValueError"
   ]
  },
  {
   "cell_type": "code",
   "execution_count": 13,
   "id": "ba914001",
   "metadata": {},
   "outputs": [
    {
     "name": "stdout",
     "output_type": "stream",
     "text": [
      "<class 'pandas.core.frame.DataFrame'>\n",
      "Int64Index: 2858 entries, 0 to 11659\n",
      "Data columns (total 3 columns):\n",
      " #   Column      Non-Null Count  Dtype \n",
      "---  ------      --------------  ----- \n",
      " 0   County      2858 non-null   object\n",
      " 1   Sub_County  2858 non-null   object\n",
      " 2   AEZ_Code    2858 non-null   int64 \n",
      "dtypes: int64(1), object(2)\n",
      "memory usage: 89.3+ KB\n"
     ]
    }
   ],
   "source": [
    "aez_df.info()"
   ]
  },
  {
   "cell_type": "code",
   "execution_count": 14,
   "id": "452cb454",
   "metadata": {},
   "outputs": [
    {
     "data": {
      "text/plain": [
       "0        False\n",
       "2        False\n",
       "5        False\n",
       "6        False\n",
       "9        False\n",
       "         ...  \n",
       "11642    False\n",
       "11643    False\n",
       "11646    False\n",
       "11648    False\n",
       "11659    False\n",
       "Name: AEZ_Code, Length: 2858, dtype: bool"
      ]
     },
     "execution_count": 14,
     "metadata": {},
     "output_type": "execute_result"
    }
   ],
   "source": [
    "#making sure the range of the column is 1-6\n",
    "\n",
    "range_mask = (aez_df['AEZ_Code'].astype(float) >= 1) & (aez_df['AEZ_Code'].astype(float) <= 6)\n",
    "range_mask"
   ]
  },
  {
   "cell_type": "markdown",
   "id": "100403b6",
   "metadata": {},
   "source": [
    "### Transforming the AEZ Zone Data"
   ]
  },
  {
   "cell_type": "code",
   "execution_count": 15,
   "id": "a3969df3",
   "metadata": {
    "scrolled": true
   },
   "outputs": [
    {
     "data": {
      "text/html": [
       "<div>\n",
       "<style scoped>\n",
       "    .dataframe tbody tr th:only-of-type {\n",
       "        vertical-align: middle;\n",
       "    }\n",
       "\n",
       "    .dataframe tbody tr th {\n",
       "        vertical-align: top;\n",
       "    }\n",
       "\n",
       "    .dataframe thead th {\n",
       "        text-align: right;\n",
       "    }\n",
       "</style>\n",
       "<table border=\"1\" class=\"dataframe\">\n",
       "  <thead>\n",
       "    <tr style=\"text-align: right;\">\n",
       "      <th></th>\n",
       "      <th>Species</th>\n",
       "      <th>AEZ</th>\n",
       "    </tr>\n",
       "  </thead>\n",
       "  <tbody>\n",
       "    <tr>\n",
       "      <th>0</th>\n",
       "      <td>Acacia mearnsii _x000D_\\n\\n\\t\\t\\t(Black wattle)</td>\n",
       "      <td>I</td>\n",
       "    </tr>\n",
       "    <tr>\n",
       "      <th>1</th>\n",
       "      <td>Acacia melanoxylon</td>\n",
       "      <td>I</td>\n",
       "    </tr>\n",
       "    <tr>\n",
       "      <th>2</th>\n",
       "      <td>Arundinaria alpina _x000D_\\n\\n\\t\\t\\t(Bamboo)</td>\n",
       "      <td>I</td>\n",
       "    </tr>\n",
       "    <tr>\n",
       "      <th>3</th>\n",
       "      <td>Bischofia javonica _x000D_\\n\\n\\t\\t\\t(Bischof w...</td>\n",
       "      <td>I</td>\n",
       "    </tr>\n",
       "    <tr>\n",
       "      <th>4</th>\n",
       "      <td>Chlorophora excelsa _x000D_\\n\\n\\t\\t\\t(Mvule)</td>\n",
       "      <td>I</td>\n",
       "    </tr>\n",
       "    <tr>\n",
       "      <th>...</th>\n",
       "      <td>...</td>\n",
       "      <td>...</td>\n",
       "    </tr>\n",
       "    <tr>\n",
       "      <th>63</th>\n",
       "      <td>A. Senegal_x000D_\\n\\n\\t\\t\\t(Gum arabicum)</td>\n",
       "      <td>VI</td>\n",
       "    </tr>\n",
       "    <tr>\n",
       "      <th>64</th>\n",
       "      <td>Cordia sinensis</td>\n",
       "      <td>VI</td>\n",
       "    </tr>\n",
       "    <tr>\n",
       "      <th>65</th>\n",
       "      <td>Hyhaena ciriacea_x000D_\\n\\n\\t\\t\\t(Doum palm)</td>\n",
       "      <td>VI</td>\n",
       "    </tr>\n",
       "    <tr>\n",
       "      <th>66</th>\n",
       "      <td>Salvadora persica</td>\n",
       "      <td>VI</td>\n",
       "    </tr>\n",
       "    <tr>\n",
       "      <th>67</th>\n",
       "      <td>Syzyphus mauritiana</td>\n",
       "      <td>VI</td>\n",
       "    </tr>\n",
       "  </tbody>\n",
       "</table>\n",
       "<p>68 rows × 2 columns</p>\n",
       "</div>"
      ],
      "text/plain": [
       "                                              Species AEZ\n",
       "0     Acacia mearnsii _x000D_\\n\\n\\t\\t\\t(Black wattle)   I\n",
       "1                                  Acacia melanoxylon   I\n",
       "2        Arundinaria alpina _x000D_\\n\\n\\t\\t\\t(Bamboo)   I\n",
       "3   Bischofia javonica _x000D_\\n\\n\\t\\t\\t(Bischof w...   I\n",
       "4        Chlorophora excelsa _x000D_\\n\\n\\t\\t\\t(Mvule)   I\n",
       "..                                                ...  ..\n",
       "63          A. Senegal_x000D_\\n\\n\\t\\t\\t(Gum arabicum)  VI\n",
       "64                                    Cordia sinensis  VI\n",
       "65       Hyhaena ciriacea_x000D_\\n\\n\\t\\t\\t(Doum palm)  VI\n",
       "66                                  Salvadora persica  VI\n",
       "67                                Syzyphus mauritiana  VI\n",
       "\n",
       "[68 rows x 2 columns]"
      ]
     },
     "execution_count": 15,
     "metadata": {},
     "output_type": "execute_result"
    }
   ],
   "source": [
    "speciesdf = pd.read_excel(\"speciesbyzone.xlsx\", sheet_name= \"Sheet2\")\n",
    "speciesdf"
   ]
  },
  {
   "cell_type": "code",
   "execution_count": 16,
   "id": "402c34b3",
   "metadata": {},
   "outputs": [],
   "source": [
    "# renaming column to match the zones dataset\n",
    "\n",
    "speciesdf = speciesdf.rename(columns={'AEZ': 'AEZ_Code'})\n"
   ]
  },
  {
   "cell_type": "code",
   "execution_count": 17,
   "id": "35a25c07",
   "metadata": {},
   "outputs": [
    {
     "data": {
      "text/html": [
       "<div>\n",
       "<style scoped>\n",
       "    .dataframe tbody tr th:only-of-type {\n",
       "        vertical-align: middle;\n",
       "    }\n",
       "\n",
       "    .dataframe tbody tr th {\n",
       "        vertical-align: top;\n",
       "    }\n",
       "\n",
       "    .dataframe thead th {\n",
       "        text-align: right;\n",
       "    }\n",
       "</style>\n",
       "<table border=\"1\" class=\"dataframe\">\n",
       "  <thead>\n",
       "    <tr style=\"text-align: right;\">\n",
       "      <th></th>\n",
       "      <th>Species</th>\n",
       "      <th>AEZ_Code</th>\n",
       "    </tr>\n",
       "  </thead>\n",
       "  <tbody>\n",
       "    <tr>\n",
       "      <th>0</th>\n",
       "      <td>Acacia mearnsii _x000D_\\n\\n\\t\\t\\t(Black wattle)</td>\n",
       "      <td>I</td>\n",
       "    </tr>\n",
       "    <tr>\n",
       "      <th>1</th>\n",
       "      <td>Acacia melanoxylon</td>\n",
       "      <td>I</td>\n",
       "    </tr>\n",
       "    <tr>\n",
       "      <th>2</th>\n",
       "      <td>Arundinaria alpina _x000D_\\n\\n\\t\\t\\t(Bamboo)</td>\n",
       "      <td>I</td>\n",
       "    </tr>\n",
       "    <tr>\n",
       "      <th>3</th>\n",
       "      <td>Bischofia javonica _x000D_\\n\\n\\t\\t\\t(Bischof w...</td>\n",
       "      <td>I</td>\n",
       "    </tr>\n",
       "    <tr>\n",
       "      <th>4</th>\n",
       "      <td>Chlorophora excelsa _x000D_\\n\\n\\t\\t\\t(Mvule)</td>\n",
       "      <td>I</td>\n",
       "    </tr>\n",
       "  </tbody>\n",
       "</table>\n",
       "</div>"
      ],
      "text/plain": [
       "                                             Species AEZ_Code\n",
       "0    Acacia mearnsii _x000D_\\n\\n\\t\\t\\t(Black wattle)        I\n",
       "1                                 Acacia melanoxylon        I\n",
       "2       Arundinaria alpina _x000D_\\n\\n\\t\\t\\t(Bamboo)        I\n",
       "3  Bischofia javonica _x000D_\\n\\n\\t\\t\\t(Bischof w...        I\n",
       "4       Chlorophora excelsa _x000D_\\n\\n\\t\\t\\t(Mvule)        I"
      ]
     },
     "execution_count": 17,
     "metadata": {},
     "output_type": "execute_result"
    }
   ],
   "source": [
    "speciesdf.head()"
   ]
  },
  {
   "cell_type": "code",
   "execution_count": 18,
   "id": "4f14baff",
   "metadata": {
    "scrolled": false
   },
   "outputs": [
    {
     "data": {
      "text/html": [
       "<div>\n",
       "<style scoped>\n",
       "    .dataframe tbody tr th:only-of-type {\n",
       "        vertical-align: middle;\n",
       "    }\n",
       "\n",
       "    .dataframe tbody tr th {\n",
       "        vertical-align: top;\n",
       "    }\n",
       "\n",
       "    .dataframe thead th {\n",
       "        text-align: right;\n",
       "    }\n",
       "</style>\n",
       "<table border=\"1\" class=\"dataframe\">\n",
       "  <thead>\n",
       "    <tr style=\"text-align: right;\">\n",
       "      <th></th>\n",
       "      <th>Species</th>\n",
       "      <th>AEZ_Code</th>\n",
       "    </tr>\n",
       "  </thead>\n",
       "  <tbody>\n",
       "    <tr>\n",
       "      <th>0</th>\n",
       "      <td>Acacia mearnsii _x000D_\\n\\n\\t\\t\\t(Black wattle)</td>\n",
       "      <td>1</td>\n",
       "    </tr>\n",
       "    <tr>\n",
       "      <th>1</th>\n",
       "      <td>Acacia melanoxylon</td>\n",
       "      <td>1</td>\n",
       "    </tr>\n",
       "    <tr>\n",
       "      <th>2</th>\n",
       "      <td>Arundinaria alpina _x000D_\\n\\n\\t\\t\\t(Bamboo)</td>\n",
       "      <td>1</td>\n",
       "    </tr>\n",
       "    <tr>\n",
       "      <th>3</th>\n",
       "      <td>Bischofia javonica _x000D_\\n\\n\\t\\t\\t(Bischof w...</td>\n",
       "      <td>1</td>\n",
       "    </tr>\n",
       "    <tr>\n",
       "      <th>4</th>\n",
       "      <td>Chlorophora excelsa _x000D_\\n\\n\\t\\t\\t(Mvule)</td>\n",
       "      <td>1</td>\n",
       "    </tr>\n",
       "  </tbody>\n",
       "</table>\n",
       "</div>"
      ],
      "text/plain": [
       "                                             Species  AEZ_Code\n",
       "0    Acacia mearnsii _x000D_\\n\\n\\t\\t\\t(Black wattle)         1\n",
       "1                                 Acacia melanoxylon         1\n",
       "2       Arundinaria alpina _x000D_\\n\\n\\t\\t\\t(Bamboo)         1\n",
       "3  Bischofia javonica _x000D_\\n\\n\\t\\t\\t(Bischof w...         1\n",
       "4       Chlorophora excelsa _x000D_\\n\\n\\t\\t\\t(Mvule)         1"
      ]
     },
     "execution_count": 18,
     "metadata": {},
     "output_type": "execute_result"
    }
   ],
   "source": [
    "#conversion from roman numerals to numbers to match the other dataset\n",
    "\n",
    "roman_to_num = {'I': 1, 'II': 2, 'III': 3, 'IV': 4, 'V': 5, 'VI': 6}\n",
    "\n",
    "def roman_to_number(roman):\n",
    "    return roman_to_num.get(roman, None)\n",
    "\n",
    "# Apply the function to the 'AEZ_Code' column\n",
    "speciesdf['AEZ_Code'] = speciesdf['AEZ_Code'].apply(roman_to_number)\n",
    "\n",
    "speciesdf.head()"
   ]
  },
  {
   "cell_type": "code",
   "execution_count": 19,
   "id": "73a7c82f",
   "metadata": {},
   "outputs": [
    {
     "name": "stdout",
     "output_type": "stream",
     "text": [
      "[1, 2, 3, 4, 5, 6]\n"
     ]
    }
   ],
   "source": [
    "#making sure we have the right range\n",
    "\n",
    "unique_code = speciesdf[\"AEZ_Code\"].unique().tolist()\n",
    "print(unique_code)"
   ]
  },
  {
   "cell_type": "code",
   "execution_count": 20,
   "id": "f8bae163",
   "metadata": {},
   "outputs": [
    {
     "data": {
      "text/html": [
       "<div>\n",
       "<style scoped>\n",
       "    .dataframe tbody tr th:only-of-type {\n",
       "        vertical-align: middle;\n",
       "    }\n",
       "\n",
       "    .dataframe tbody tr th {\n",
       "        vertical-align: top;\n",
       "    }\n",
       "\n",
       "    .dataframe thead th {\n",
       "        text-align: right;\n",
       "    }\n",
       "</style>\n",
       "<table border=\"1\" class=\"dataframe\">\n",
       "  <thead>\n",
       "    <tr style=\"text-align: right;\">\n",
       "      <th></th>\n",
       "      <th>Species</th>\n",
       "      <th>AEZ_Code</th>\n",
       "    </tr>\n",
       "  </thead>\n",
       "  <tbody>\n",
       "    <tr>\n",
       "      <th>0</th>\n",
       "      <td>Acacia mearnsii (Black wattle)</td>\n",
       "      <td>1</td>\n",
       "    </tr>\n",
       "    <tr>\n",
       "      <th>1</th>\n",
       "      <td>Acacia melanoxylon</td>\n",
       "      <td>1</td>\n",
       "    </tr>\n",
       "    <tr>\n",
       "      <th>2</th>\n",
       "      <td>Arundinaria alpina (Bamboo)</td>\n",
       "      <td>1</td>\n",
       "    </tr>\n",
       "    <tr>\n",
       "      <th>3</th>\n",
       "      <td>Bischofia javonica (Bischof wood)</td>\n",
       "      <td>1</td>\n",
       "    </tr>\n",
       "    <tr>\n",
       "      <th>4</th>\n",
       "      <td>Chlorophora excelsa (Mvule)</td>\n",
       "      <td>1</td>\n",
       "    </tr>\n",
       "    <tr>\n",
       "      <th>...</th>\n",
       "      <td>...</td>\n",
       "      <td>...</td>\n",
       "    </tr>\n",
       "    <tr>\n",
       "      <th>63</th>\n",
       "      <td>A. Senegal(Gum arabicum)</td>\n",
       "      <td>6</td>\n",
       "    </tr>\n",
       "    <tr>\n",
       "      <th>64</th>\n",
       "      <td>Cordia sinensis</td>\n",
       "      <td>6</td>\n",
       "    </tr>\n",
       "    <tr>\n",
       "      <th>65</th>\n",
       "      <td>Hyhaena ciriacea(Doum palm)</td>\n",
       "      <td>6</td>\n",
       "    </tr>\n",
       "    <tr>\n",
       "      <th>66</th>\n",
       "      <td>Salvadora persica</td>\n",
       "      <td>6</td>\n",
       "    </tr>\n",
       "    <tr>\n",
       "      <th>67</th>\n",
       "      <td>Syzyphus mauritiana</td>\n",
       "      <td>6</td>\n",
       "    </tr>\n",
       "  </tbody>\n",
       "</table>\n",
       "<p>68 rows × 2 columns</p>\n",
       "</div>"
      ],
      "text/plain": [
       "                              Species  AEZ_Code\n",
       "0      Acacia mearnsii (Black wattle)         1\n",
       "1                  Acacia melanoxylon         1\n",
       "2         Arundinaria alpina (Bamboo)         1\n",
       "3   Bischofia javonica (Bischof wood)         1\n",
       "4         Chlorophora excelsa (Mvule)         1\n",
       "..                                ...       ...\n",
       "63           A. Senegal(Gum arabicum)         6\n",
       "64                    Cordia sinensis         6\n",
       "65        Hyhaena ciriacea(Doum palm)         6\n",
       "66                  Salvadora persica         6\n",
       "67                Syzyphus mauritiana         6\n",
       "\n",
       "[68 rows x 2 columns]"
      ]
     },
     "execution_count": 20,
     "metadata": {},
     "output_type": "execute_result"
    }
   ],
   "source": [
    "speciesdf['Species'] = speciesdf['Species'].str.replace(\"_x000D_\\n\\n\\t\\t\\t\", \"\")\n",
    "speciesdf"
   ]
  },
  {
   "cell_type": "code",
   "execution_count": 21,
   "id": "4ea67d47",
   "metadata": {},
   "outputs": [
    {
     "data": {
      "text/html": [
       "<div>\n",
       "<style scoped>\n",
       "    .dataframe tbody tr th:only-of-type {\n",
       "        vertical-align: middle;\n",
       "    }\n",
       "\n",
       "    .dataframe tbody tr th {\n",
       "        vertical-align: top;\n",
       "    }\n",
       "\n",
       "    .dataframe thead th {\n",
       "        text-align: right;\n",
       "    }\n",
       "</style>\n",
       "<table border=\"1\" class=\"dataframe\">\n",
       "  <thead>\n",
       "    <tr style=\"text-align: right;\">\n",
       "      <th></th>\n",
       "      <th>Species_x</th>\n",
       "      <th>AEZ_Code</th>\n",
       "      <th>County_x</th>\n",
       "      <th>Sub_County_x</th>\n",
       "      <th>Species_y</th>\n",
       "      <th>County_y</th>\n",
       "      <th>Sub_County_y</th>\n",
       "    </tr>\n",
       "  </thead>\n",
       "  <tbody>\n",
       "    <tr>\n",
       "      <th>0</th>\n",
       "      <td>Acacia mearnsii (Black wattle)</td>\n",
       "      <td>1</td>\n",
       "      <td>NaN</td>\n",
       "      <td>NaN</td>\n",
       "      <td>Acacia mearnsii (Black wattle)</td>\n",
       "      <td>NaN</td>\n",
       "      <td>NaN</td>\n",
       "    </tr>\n",
       "    <tr>\n",
       "      <th>1</th>\n",
       "      <td>Acacia mearnsii (Black wattle)</td>\n",
       "      <td>1</td>\n",
       "      <td>NaN</td>\n",
       "      <td>NaN</td>\n",
       "      <td>Acacia melanoxylon</td>\n",
       "      <td>NaN</td>\n",
       "      <td>NaN</td>\n",
       "    </tr>\n",
       "    <tr>\n",
       "      <th>2</th>\n",
       "      <td>Acacia mearnsii (Black wattle)</td>\n",
       "      <td>1</td>\n",
       "      <td>NaN</td>\n",
       "      <td>NaN</td>\n",
       "      <td>Arundinaria alpina (Bamboo)</td>\n",
       "      <td>NaN</td>\n",
       "      <td>NaN</td>\n",
       "    </tr>\n",
       "    <tr>\n",
       "      <th>3</th>\n",
       "      <td>Acacia mearnsii (Black wattle)</td>\n",
       "      <td>1</td>\n",
       "      <td>NaN</td>\n",
       "      <td>NaN</td>\n",
       "      <td>Bischofia javonica (Bischof wood)</td>\n",
       "      <td>NaN</td>\n",
       "      <td>NaN</td>\n",
       "    </tr>\n",
       "    <tr>\n",
       "      <th>4</th>\n",
       "      <td>Acacia mearnsii (Black wattle)</td>\n",
       "      <td>1</td>\n",
       "      <td>NaN</td>\n",
       "      <td>NaN</td>\n",
       "      <td>Chlorophora excelsa (Mvule)</td>\n",
       "      <td>NaN</td>\n",
       "      <td>NaN</td>\n",
       "    </tr>\n",
       "  </tbody>\n",
       "</table>\n",
       "</div>"
      ],
      "text/plain": [
       "                        Species_x  AEZ_Code County_x Sub_County_x  \\\n",
       "0  Acacia mearnsii (Black wattle)         1      NaN          NaN   \n",
       "1  Acacia mearnsii (Black wattle)         1      NaN          NaN   \n",
       "2  Acacia mearnsii (Black wattle)         1      NaN          NaN   \n",
       "3  Acacia mearnsii (Black wattle)         1      NaN          NaN   \n",
       "4  Acacia mearnsii (Black wattle)         1      NaN          NaN   \n",
       "\n",
       "                           Species_y County_y Sub_County_y  \n",
       "0     Acacia mearnsii (Black wattle)      NaN          NaN  \n",
       "1                 Acacia melanoxylon      NaN          NaN  \n",
       "2        Arundinaria alpina (Bamboo)      NaN          NaN  \n",
       "3  Bischofia javonica (Bischof wood)      NaN          NaN  \n",
       "4        Chlorophora excelsa (Mvule)      NaN          NaN  "
      ]
     },
     "execution_count": 21,
     "metadata": {},
     "output_type": "execute_result"
    }
   ],
   "source": [
    "# Concatenate DataFrames before merging\n",
    "merged_data = pd.concat([speciesdf, aez_df], ignore_index=True)\n",
    "\n",
    "# Merge the concatenated DataFrame based on 'AEZ_Code'\n",
    "merged_data = merged_data.merge(merged_data, on='AEZ_Code', how='outer')\n",
    "\n",
    "merged_data.head()\n"
   ]
  },
  {
   "cell_type": "code",
   "execution_count": 22,
   "id": "c5541289",
   "metadata": {},
   "outputs": [],
   "source": [
    "# Concatenate DataFrames before merging\n",
    "merged_data = pd.concat([speciesdf, aez_df], ignore_index=True)\n",
    "\n",
    "# Merge the concatenated DataFrame based on 'AEZ_Code'\n",
    "merged_data = merged_data.merge(merged_data, on='AEZ_Code', how='outer')\n",
    "\n",
    "merged_data.head()\n"
   ]
  },
  {
   "cell_type": "markdown",
   "id": "f2f0a2b6",
   "metadata": {},
   "source": [
    "#### Agro-Ecological Zones (AEZ) Data Dictionary\n",
    "\n",
    "\n",
    "1. Agro-Alpine (Over Highland)\n",
    "2. Highland\n",
    "3. High Potential\n",
    "4. Mediam Potential\n",
    "5. Semi-arid\n",
    "6. Very Arid\n",
    "\n"
   ]
  },
  {
   "cell_type": "code",
   "execution_count": null,
   "id": "fa296f51",
   "metadata": {},
   "outputs": [],
   "source": [
    "#import necessary libraries\n",
    "import pandas as pd\n",
    "from sklearn.model_selection import train_test_split\n",
    "from sklearn.ensemble import RandomForestClassifier\n",
    "from sklearn.metrics import accuracy_score"
   ]
  },
  {
   "cell_type": "code",
   "execution_count": null,
   "id": "d4bcb1f3",
   "metadata": {},
   "outputs": [
    {
     "ename": "NameError",
     "evalue": "name 'merged_data' is not defined",
     "output_type": "error",
     "traceback": [
      "\u001b[0;31m---------------------------------------------------------------------------\u001b[0m",
      "\u001b[0;31mNameError\u001b[0m                                 Traceback (most recent call last)",
      "\u001b[1;32m/home/laboso/reforestationproject/PreProcessing_New.ipynb Cell 24\u001b[0m line \u001b[0;36m6\n\u001b[1;32m      <a href='vscode-notebook-cell:/home/laboso/reforestationproject/PreProcessing_New.ipynb#X32sZmlsZQ%3D%3D?line=0'>1</a>\u001b[0m \u001b[39m# merged data is in a DataFrame named 'merged_data'\u001b[39;00m\n\u001b[1;32m      <a href='vscode-notebook-cell:/home/laboso/reforestationproject/PreProcessing_New.ipynb#X32sZmlsZQ%3D%3D?line=1'>2</a>\u001b[0m \n\u001b[1;32m      <a href='vscode-notebook-cell:/home/laboso/reforestationproject/PreProcessing_New.ipynb#X32sZmlsZQ%3D%3D?line=2'>3</a>\u001b[0m \u001b[39m# Choose relevant columns for feature selection\u001b[39;00m\n\u001b[1;32m      <a href='vscode-notebook-cell:/home/laboso/reforestationproject/PreProcessing_New.ipynb#X32sZmlsZQ%3D%3D?line=3'>4</a>\u001b[0m \u001b[39m# For example, let's consider 'Species_x' and 'AEZ_Code' as important columns\u001b[39;00m\n\u001b[0;32m----> <a href='vscode-notebook-cell:/home/laboso/reforestationproject/PreProcessing_New.ipynb#X32sZmlsZQ%3D%3D?line=5'>6</a>\u001b[0m selected_features \u001b[39m=\u001b[39m merged_data[[\u001b[39m'\u001b[39m\u001b[39mSpecies_x\u001b[39m\u001b[39m'\u001b[39m, \u001b[39m'\u001b[39m\u001b[39mAEZ_Code\u001b[39m\u001b[39m'\u001b[39m]]\n\u001b[1;32m      <a href='vscode-notebook-cell:/home/laboso/reforestationproject/PreProcessing_New.ipynb#X32sZmlsZQ%3D%3D?line=7'>8</a>\u001b[0m \u001b[39m# If there are other columns that contain ecological conditions or information relevant to tree planting,\u001b[39;00m\n\u001b[1;32m      <a href='vscode-notebook-cell:/home/laboso/reforestationproject/PreProcessing_New.ipynb#X32sZmlsZQ%3D%3D?line=8'>9</a>\u001b[0m \u001b[39m# you can include them in the 'selected_features' DataFrame.\u001b[39;00m\n\u001b[1;32m     <a href='vscode-notebook-cell:/home/laboso/reforestationproject/PreProcessing_New.ipynb#X32sZmlsZQ%3D%3D?line=9'>10</a>\u001b[0m \n\u001b[1;32m     <a href='vscode-notebook-cell:/home/laboso/reforestationproject/PreProcessing_New.ipynb#X32sZmlsZQ%3D%3D?line=10'>11</a>\u001b[0m \u001b[39m# Print the first few rows of the selected features\u001b[39;00m\n\u001b[1;32m     <a href='vscode-notebook-cell:/home/laboso/reforestationproject/PreProcessing_New.ipynb#X32sZmlsZQ%3D%3D?line=11'>12</a>\u001b[0m \u001b[39mprint\u001b[39m(selected_features\u001b[39m.\u001b[39mhead())\n",
      "\u001b[0;31mNameError\u001b[0m: name 'merged_data' is not defined"
     ]
    }
   ],
   "source": [
    "# merged data is in a DataFrame named 'merged_data'\n",
    "\n",
    "# Choose relevant columns for feature selection\n",
    "# For example, let's consider 'Species_x' and 'AEZ_Code' as important columns\n",
    "\n",
    "selected_features = merged_data[['Species_x', 'AEZ_Code']]\n",
    "\n",
    "# If there are other columns that contain ecological conditions or information relevant to tree planting,\n",
    "# you can include them in the 'selected_features' DataFrame.\n",
    "\n",
    "# Print the first few rows of the selected features\n",
    "print(selected_features.head())\n"
   ]
  }
 ],
 "metadata": {
  "kernelspec": {
   "display_name": "Python 3 (ipykernel)",
   "language": "python",
   "name": "python3"
  },
  "language_info": {
   "codemirror_mode": {
    "name": "ipython",
    "version": 3
   },
   "file_extension": ".py",
   "mimetype": "text/x-python",
   "name": "python",
   "nbconvert_exporter": "python",
   "pygments_lexer": "ipython3",
   "version": "3.11.6"
  }
 },
 "nbformat": 4,
 "nbformat_minor": 5
}
